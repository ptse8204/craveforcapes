{
 "cells": [
  {
   "cell_type": "code",
   "execution_count": 5,
   "id": "f2042c07",
   "metadata": {},
   "outputs": [],
   "source": [
    "import pandas as pd\n",
    "# from natsort import natsorted # No idea what it is yet\n",
    "from selenium import webdriver\n",
    "from selenium.webdriver.support.ui import WebDriverWait\n",
    "from selenium.webdriver.support import expected_conditions\n",
    "# from statsmodels.stats.proportion import proportion_confint as ci # No idea what it is yet"
   ]
  },
  {
   "cell_type": "code",
   "execution_count": 4,
   "id": "374afee3",
   "metadata": {
    "scrolled": false
   },
   "outputs": [
    {
     "name": "stdout",
     "output_type": "stream",
     "text": [
      "Opening a browser window...\n"
     ]
    },
    {
     "name": "stderr",
     "output_type": "stream",
     "text": [
      "/var/folders/1_/2jcphnxx5vj4qwf_v4qsw81c0000gn/T/ipykernel_9539/1878111994.py:2: DeprecationWarning: executable_path has been deprecated, please pass in a Service object\n",
      "  driver = webdriver.Firefox(executable_path = \"/Users/et/Downloads/geckodriver\")\n"
     ]
    }
   ],
   "source": [
    "print('Opening a browser window...')\n",
    "driver = webdriver.Firefox(executable_path = \"/Users/et/Downloads/geckodriver\")\n",
    "driver.get('https://cape.ucsd.edu/responses/Results.aspx')"
   ]
  },
  {
   "cell_type": "code",
   "execution_count": null,
   "id": "5509c2d4",
   "metadata": {},
   "outputs": [],
   "source": [
    "def get_courseID():\n",
    "    "
   ]
  },
  {
   "cell_type": "code",
   "execution_count": 11,
   "id": "d5c70fc6",
   "metadata": {},
   "outputs": [],
   "source": [
    "def get_raw_cape_dataframe():\n",
    "\n",
    "    # launch browser using Selenium, need to have Firefox installed\n",
    "    print('Opening a browser window...')\n",
    "    driver = webdriver.Firefox(executable_path = \"/Users/et/Downloads/geckodriver\")\n",
    "    print('Browser window open, loading the page...')\n",
    "\n",
    "    # get the page that lists all the data, first try\n",
    "    driver.get('https://cape.ucsd.edu/responses/Results.aspx')\n",
    "    print('Please enter credentials...')\n",
    "\n",
    "    # wait until SSO credentials are entered\n",
    "    wait = WebDriverWait(driver, 60)\n",
    "    element = wait.until(expected_conditions.title_contains('Course And Professor Evaluations (CAPE)'))\n",
    "\n",
    "    # get the page that lists all the data\n",
    "    # (%2C is the comma, drops all the data since every professor name has it)\n",
    "    driver.get('https://cape.ucsd.edu/responses/Results.aspx?Name=%2C')\n",
    "\n",
    "    # read in the dataset from the html file\n",
    "    df = pd.read_html(driver.page_source)[0]\n",
    "    print('Dataset parsed, closing browser window.')\n",
    "\n",
    "    # destroy driver instance\n",
    "    driver.quit()\n",
    "\n",
    "    return df"
   ]
  },
  {
   "cell_type": "code",
   "execution_count": 12,
   "id": "19d7429d",
   "metadata": {},
   "outputs": [
    {
     "name": "stdout",
     "output_type": "stream",
     "text": [
      "Opening a browser window...\n"
     ]
    },
    {
     "name": "stderr",
     "output_type": "stream",
     "text": [
      "/var/folders/1_/2jcphnxx5vj4qwf_v4qsw81c0000gn/T/ipykernel_9539/3669711119.py:5: DeprecationWarning: executable_path has been deprecated, please pass in a Service object\n",
      "  driver = webdriver.Firefox(executable_path = \"/Users/et/Downloads/geckodriver\")\n"
     ]
    },
    {
     "name": "stdout",
     "output_type": "stream",
     "text": [
      "Browser window open, loading the page...\n",
      "Please enter credentials...\n",
      "Dataset parsed, closing browser window.\n"
     ]
    }
   ],
   "source": [
    "df = get_raw_cape_dataframe()"
   ]
  },
  {
   "cell_type": "code",
   "execution_count": 13,
   "id": "ac98e03d",
   "metadata": {},
   "outputs": [
    {
     "data": {
      "text/html": [
       "<div>\n",
       "<style scoped>\n",
       "    .dataframe tbody tr th:only-of-type {\n",
       "        vertical-align: middle;\n",
       "    }\n",
       "\n",
       "    .dataframe tbody tr th {\n",
       "        vertical-align: top;\n",
       "    }\n",
       "\n",
       "    .dataframe thead th {\n",
       "        text-align: right;\n",
       "    }\n",
       "</style>\n",
       "<table border=\"1\" class=\"dataframe\">\n",
       "  <thead>\n",
       "    <tr style=\"text-align: right;\">\n",
       "      <th></th>\n",
       "      <th>Instructor</th>\n",
       "      <th>Course</th>\n",
       "      <th>Term</th>\n",
       "      <th>Enroll</th>\n",
       "      <th>Evals Made</th>\n",
       "      <th>Rcmnd Class</th>\n",
       "      <th>Rcmnd Instr</th>\n",
       "      <th>Study Hrs/wk</th>\n",
       "      <th>Avg Grade Expected</th>\n",
       "      <th>Avg Grade Received</th>\n",
       "    </tr>\n",
       "  </thead>\n",
       "  <tbody>\n",
       "    <tr>\n",
       "      <th>0</th>\n",
       "      <td>Butler, Elizabeth Annette</td>\n",
       "      <td>AAS 10 - Intro/African-American Studies (A)</td>\n",
       "      <td>FA21</td>\n",
       "      <td>67</td>\n",
       "      <td>40</td>\n",
       "      <td>94.9%</td>\n",
       "      <td>94.6%</td>\n",
       "      <td>4.00</td>\n",
       "      <td>B+ (3.67)</td>\n",
       "      <td>B+ (3.54)</td>\n",
       "    </tr>\n",
       "    <tr>\n",
       "      <th>1</th>\n",
       "      <td>Puritty, Chandler Elizabeth</td>\n",
       "      <td>AAS 190 - Sp Topics/Af-Am Studies (A)</td>\n",
       "      <td>FA21</td>\n",
       "      <td>39</td>\n",
       "      <td>14</td>\n",
       "      <td>100.0%</td>\n",
       "      <td>100.0%</td>\n",
       "      <td>2.93</td>\n",
       "      <td>A- (3.86)</td>\n",
       "      <td>A (4.00)</td>\n",
       "    </tr>\n",
       "    <tr>\n",
       "      <th>2</th>\n",
       "      <td>Andrews, Abigail Leslie</td>\n",
       "      <td>AIP 197T - AIP: Special Programs (A)</td>\n",
       "      <td>FA21</td>\n",
       "      <td>27</td>\n",
       "      <td>11</td>\n",
       "      <td>100.0%</td>\n",
       "      <td>100.0%</td>\n",
       "      <td>8.10</td>\n",
       "      <td>A (4.00)</td>\n",
       "      <td>NaN</td>\n",
       "    </tr>\n",
       "    <tr>\n",
       "      <th>3</th>\n",
       "      <td>Smith, Neil Gordon</td>\n",
       "      <td>ANAR 104 - Intro GIS for Anth &amp; Arch (A)</td>\n",
       "      <td>FA21</td>\n",
       "      <td>14</td>\n",
       "      <td>8</td>\n",
       "      <td>100.0%</td>\n",
       "      <td>100.0%</td>\n",
       "      <td>6.50</td>\n",
       "      <td>A- (3.71)</td>\n",
       "      <td>NaN</td>\n",
       "    </tr>\n",
       "    <tr>\n",
       "      <th>4</th>\n",
       "      <td>Smith, Neil Gordon</td>\n",
       "      <td>ANAR 121 - Cyber-Archaeology (A)</td>\n",
       "      <td>FA21</td>\n",
       "      <td>13</td>\n",
       "      <td>8</td>\n",
       "      <td>100.0%</td>\n",
       "      <td>100.0%</td>\n",
       "      <td>5.25</td>\n",
       "      <td>B+ (3.63)</td>\n",
       "      <td>NaN</td>\n",
       "    </tr>\n",
       "    <tr>\n",
       "      <th>...</th>\n",
       "      <td>...</td>\n",
       "      <td>...</td>\n",
       "      <td>...</td>\n",
       "      <td>...</td>\n",
       "      <td>...</td>\n",
       "      <td>...</td>\n",
       "      <td>...</td>\n",
       "      <td>...</td>\n",
       "      <td>...</td>\n",
       "      <td>...</td>\n",
       "    </tr>\n",
       "    <tr>\n",
       "      <th>56026</th>\n",
       "      <td>Li, Huai</td>\n",
       "      <td>VIS 105D - Aesthetics/Chinese Calligraphy (A)</td>\n",
       "      <td>SU07</td>\n",
       "      <td>17</td>\n",
       "      <td>13</td>\n",
       "      <td>100.0%</td>\n",
       "      <td>100.0%</td>\n",
       "      <td>2.33</td>\n",
       "      <td>A (4.00)</td>\n",
       "      <td>NaN</td>\n",
       "    </tr>\n",
       "    <tr>\n",
       "      <th>56027</th>\n",
       "      <td>Guerrero, Raul M.</td>\n",
       "      <td>VIS 106A - Painting: Image Making (A)</td>\n",
       "      <td>SU07</td>\n",
       "      <td>16</td>\n",
       "      <td>14</td>\n",
       "      <td>92.9%</td>\n",
       "      <td>92.9%</td>\n",
       "      <td>7.21</td>\n",
       "      <td>A- (3.79)</td>\n",
       "      <td>NaN</td>\n",
       "    </tr>\n",
       "    <tr>\n",
       "      <th>56028</th>\n",
       "      <td>Mangolte, Babette</td>\n",
       "      <td>VIS 194S - Fantasy In Film (A)</td>\n",
       "      <td>SU07</td>\n",
       "      <td>80</td>\n",
       "      <td>57</td>\n",
       "      <td>74.1%</td>\n",
       "      <td>26.4%</td>\n",
       "      <td>4.27</td>\n",
       "      <td>B (3.21)</td>\n",
       "      <td>NaN</td>\n",
       "    </tr>\n",
       "    <tr>\n",
       "      <th>56029</th>\n",
       "      <td>Holland, Nicole Murphy</td>\n",
       "      <td>VIS 22 - Formations of Modern Art (A)</td>\n",
       "      <td>SU07</td>\n",
       "      <td>40</td>\n",
       "      <td>33</td>\n",
       "      <td>100.0%</td>\n",
       "      <td>96.7%</td>\n",
       "      <td>4.32</td>\n",
       "      <td>B+ (3.62)</td>\n",
       "      <td>NaN</td>\n",
       "    </tr>\n",
       "    <tr>\n",
       "      <th>56030</th>\n",
       "      <td>Michaelis, Danielle Ruth</td>\n",
       "      <td>VIS 60 - Introduction to Photography (A)</td>\n",
       "      <td>SU07</td>\n",
       "      <td>19</td>\n",
       "      <td>18</td>\n",
       "      <td>100.0%</td>\n",
       "      <td>94.1%</td>\n",
       "      <td>13.28</td>\n",
       "      <td>B+ (3.59)</td>\n",
       "      <td>NaN</td>\n",
       "    </tr>\n",
       "  </tbody>\n",
       "</table>\n",
       "<p>56031 rows × 10 columns</p>\n",
       "</div>"
      ],
      "text/plain": [
       "                        Instructor  \\\n",
       "0        Butler, Elizabeth Annette   \n",
       "1      Puritty, Chandler Elizabeth   \n",
       "2          Andrews, Abigail Leslie   \n",
       "3               Smith, Neil Gordon   \n",
       "4               Smith, Neil Gordon   \n",
       "...                            ...   \n",
       "56026                     Li, Huai   \n",
       "56027            Guerrero, Raul M.   \n",
       "56028            Mangolte, Babette   \n",
       "56029       Holland, Nicole Murphy   \n",
       "56030     Michaelis, Danielle Ruth   \n",
       "\n",
       "                                              Course  Term  Enroll  \\\n",
       "0        AAS 10 - Intro/African-American Studies (A)  FA21      67   \n",
       "1              AAS 190 - Sp Topics/Af-Am Studies (A)  FA21      39   \n",
       "2               AIP 197T - AIP: Special Programs (A)  FA21      27   \n",
       "3           ANAR 104 - Intro GIS for Anth & Arch (A)  FA21      14   \n",
       "4                   ANAR 121 - Cyber-Archaeology (A)  FA21      13   \n",
       "...                                              ...   ...     ...   \n",
       "56026  VIS 105D - Aesthetics/Chinese Calligraphy (A)  SU07      17   \n",
       "56027          VIS 106A - Painting: Image Making (A)  SU07      16   \n",
       "56028                 VIS 194S - Fantasy In Film (A)  SU07      80   \n",
       "56029          VIS 22 - Formations of Modern Art (A)  SU07      40   \n",
       "56030       VIS 60 - Introduction to Photography (A)  SU07      19   \n",
       "\n",
       "       Evals Made Rcmnd Class Rcmnd Instr  Study Hrs/wk Avg Grade Expected  \\\n",
       "0              40       94.9%       94.6%          4.00          B+ (3.67)   \n",
       "1              14      100.0%      100.0%          2.93          A- (3.86)   \n",
       "2              11      100.0%      100.0%          8.10           A (4.00)   \n",
       "3               8      100.0%      100.0%          6.50          A- (3.71)   \n",
       "4               8      100.0%      100.0%          5.25          B+ (3.63)   \n",
       "...           ...         ...         ...           ...                ...   \n",
       "56026          13      100.0%      100.0%          2.33           A (4.00)   \n",
       "56027          14       92.9%       92.9%          7.21          A- (3.79)   \n",
       "56028          57       74.1%       26.4%          4.27           B (3.21)   \n",
       "56029          33      100.0%       96.7%          4.32          B+ (3.62)   \n",
       "56030          18      100.0%       94.1%         13.28          B+ (3.59)   \n",
       "\n",
       "      Avg Grade Received  \n",
       "0              B+ (3.54)  \n",
       "1               A (4.00)  \n",
       "2                    NaN  \n",
       "3                    NaN  \n",
       "4                    NaN  \n",
       "...                  ...  \n",
       "56026                NaN  \n",
       "56027                NaN  \n",
       "56028                NaN  \n",
       "56029                NaN  \n",
       "56030                NaN  \n",
       "\n",
       "[56031 rows x 10 columns]"
      ]
     },
     "execution_count": 13,
     "metadata": {},
     "output_type": "execute_result"
    }
   ],
   "source": [
    "df"
   ]
  },
  {
   "cell_type": "code",
   "execution_count": 14,
   "id": "4a15a80e",
   "metadata": {},
   "outputs": [],
   "source": [
    "df.to_csv(\"capes.csv\")"
   ]
  },
  {
   "cell_type": "code",
   "execution_count": 30,
   "id": "756672d1",
   "metadata": {},
   "outputs": [
    {
     "data": {
      "text/plain": [
       "100.0    21397\n",
       "80.0       860\n",
       "75.0       836\n",
       "83.3       821\n",
       "87.5       794\n",
       "         ...  \n",
       "36.1         1\n",
       "58.9         1\n",
       "21.3         1\n",
       "9.9          1\n",
       "32.2         1\n",
       "Name: Rcmnd Instr, Length: 786, dtype: int64"
      ]
     },
     "execution_count": 30,
     "metadata": {},
     "output_type": "execute_result"
    }
   ],
   "source": [
    "df[\"Rcmnd Instr\"].str.replace(\"%\", \"\").astype(\"float\").value_counts()"
   ]
  },
  {
   "cell_type": "code",
   "execution_count": null,
   "id": "1a3f4e16",
   "metadata": {},
   "outputs": [],
   "source": []
  }
 ],
 "metadata": {
  "kernelspec": {
   "display_name": "Python 3 (ipykernel)",
   "language": "python",
   "name": "python3"
  },
  "language_info": {
   "codemirror_mode": {
    "name": "ipython",
    "version": 3
   },
   "file_extension": ".py",
   "mimetype": "text/x-python",
   "name": "python",
   "nbconvert_exporter": "python",
   "pygments_lexer": "ipython3",
   "version": "3.9.2"
  }
 },
 "nbformat": 4,
 "nbformat_minor": 5
}
